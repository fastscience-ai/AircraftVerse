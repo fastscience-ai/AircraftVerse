{
 "cells": [
  {
   "cell_type": "code",
   "execution_count": 4,
   "id": "54c1f107-d6c6-4a78-b61f-04803b0edc06",
   "metadata": {},
   "outputs": [],
   "source": [
    "import torch\n",
    "import torch.nn as nn\n",
    "import torch.optim as optim\n",
    "from torch import nn, Tensor\n",
    "\n",
    "from torch.utils.data import Dataset, DataLoader\n",
    "\n",
    "import matplotlib.pyplot as plt\n",
    "import matplotlib.ticker as ticker\n",
    "import numpy as np\n",
    "\n",
    "import random\n",
    "import math\n",
    "import time\n",
    "import sys\n",
    "sys.path.insert(1, '../code/')\n",
    "\n",
    "import ssm\n",
    "import vae\n",
    "from vae import TransformerAutoencoder\n",
    "# insert at 1, 0 is the script path (or '' in REPL)\n",
    "import util\n",
    "\n",
    "import math\n",
    "from typing import Tuple\n",
    "\n",
    "import torch\n",
    "from torch import nn, Tensor\n",
    "import torch.nn.functional as F\n",
    "from torch.nn import TransformerEncoder, TransformerEncoderLayer, TransformerDecoder, TransformerDecoderLayer\n",
    "from torch.utils.data import dataset\n",
    "from torch.nn.utils.rnn import pack_padded_sequence, pad_packed_sequence\n"
   ]
  },
  {
   "cell_type": "markdown",
   "id": "183ed61f-bc3f-499d-aad2-49009b4d3a04",
   "metadata": {},
   "source": [
    "### Set the path and specification that you want to predict"
   ]
  },
  {
   "cell_type": "code",
   "execution_count": 5,
   "id": "849f712d-ac8c-4bfc-be58-d334d4596838",
   "metadata": {},
   "outputs": [],
   "source": [
    "data_path = '../data_full/transformer_data'\n",
    "spec = 'airworthy' #'hover'#'interference'#'dist' #'mass' #'airworthy'\n",
    "max_mass = 35. #(kg)"
   ]
  },
  {
   "cell_type": "markdown",
   "id": "09bf7211-68d9-4d3e-bd6b-b8c15432df30",
   "metadata": {},
   "source": [
    "### Download the dataset and build the data loaders"
   ]
  },
  {
   "cell_type": "code",
   "execution_count": 7,
   "id": "e9f53380-d6c5-4f18-9925-7a5fc9ea1961",
   "metadata": {},
   "outputs": [
    {
     "name": "stdout",
     "output_type": "stream",
     "text": [
      "Training Data:   11085\n",
      "Validation Data: 11085\n",
      "Test Data:       5544\n",
      "Mean of Training Data: 0.0010118670761585236\n",
      "Var of training Data: 0.0009689386934041977\n",
      "Min of training Data: 0.0\n",
      "Max of training Data: 1.0\n"
     ]
    }
   ],
   "source": [
    "torch.manual_seed(0)\n",
    "np.random.seed(0)\n",
    "batch_size = 16\n",
    "batch_size_val = 16\n",
    "frac_train = 0.4\n",
    "frac_val = 0.4\n",
    "\n",
    "dataloader_tr, dataloader_val, dataloader_test, scale_1, scale_2 = vae.prepare_sequence_data(data_path, spec, batch_size = batch_size ,batch_size_val = batch_size_val, frac_train = frac_train, frac_val = frac_val)\n",
    "\n",
    "dataloader_tr.dataset.x_train = torch.clip(dataloader_tr.dataset.x_train, min=0, max = 1)\n",
    "dataloader_val.dataset.x_train = torch.clip(dataloader_val.dataset.x_train, min=0, max = 1)\n",
    "dataloader_test.dataset.x_train = torch.clip(dataloader_test.dataset.x_train, min=0, max = 1)\n",
    "print(f'Training Data:   {dataloader_tr.dataset.y_train.shape[0]}')\n",
    "print(f'Validation Data: {dataloader_val.dataset.y_train.shape[0]}')\n",
    "print(f'Test Data:       {dataloader_test.dataset.y_train.shape[0]}')\n",
    "print(f'Mean of Training Data: {torch.mean(dataloader_tr.dataset.x_train)}')\n",
    "print(f'Var of training Data: {torch.var(dataloader_tr.dataset.x_train)}')\n",
    "print(f'Min of training Data: {torch.min(dataloader_tr.dataset.x_train)}')\n",
    "print(f'Max of training Data: {torch.max(dataloader_tr.dataset.x_train)}')"
   ]
  },
  {
   "cell_type": "code",
   "execution_count": 8,
   "id": "ea2b060b-9294-49ef-aff7-55e96c8f573f",
   "metadata": {},
   "outputs": [],
   "source": [
    "def decode_embedding(x):\n",
    "    ''' \n",
    "    x is one embedding sample [69(timestep), 653(embedding size)]\n",
    "    '''\n",
    "    def decode(dic, tokens, values):\n",
    "        '''\n",
    "        Take an encoding dictionary {'token0':0, 'token1':1, ... } and list of tokens [0, 1, 4, ... ]\n",
    "        and return the corresponding strings of tokens ['token0', 'token1', 'token4', ...]\n",
    "        '''\n",
    "    \n",
    "        seq = []\n",
    "        dic_reverse = {value:key for key, value in dic.items()}\n",
    "        for n, tok in enumerate(tokens):\n",
    "            if dic_reverse[int(tok)] == 'Value':\n",
    "                seq.append(float(values[n]))\n",
    "            else:\n",
    "                seq.append(dic_reverse[int(tok)])\n",
    "        return seq\n",
    "    data_path = '../data/transformer_data'\n",
    "    dic = torch.load(data_path)\n",
    "    K = len(dic['encoding_dict_keys'])\n",
    "    V = len(dic['encoding_dict_values'])\n",
    "    k = decode(dic['encoding_dict_keys'], x[:,:K].argmax(1), None)\n",
    "    v = decode(dic['encoding_dict_values'], x[:,K:K+V].argmax(1), dic['X_norm'][-6][:,-1])\n",
    "    if 20 in list(x[:,:K].argmax(1)):\n",
    "        end_idx = list(x[:,:K].argmax(1)).index(20) #20 # why it is sometimes 29 and sometimes 20? k.index('varioY') #end token\n",
    "    else:\n",
    "        end_idx = len(list(x[:,:K].argmax(1)))\n",
    "    k = k[:end_idx+1]\n",
    "    v = v[:end_idx+1]\n",
    "    print(x[:,:K].argmax(1), x[:,K:K+V].argmax(1))\n",
    "    output = [{k[i]:v[i]} for i in range(len(k))]\n",
    "    return output\n",
    "    "
   ]
  },
  {
   "cell_type": "code",
   "execution_count": 9,
   "id": "c14985d7-2e7a-4faa-969f-6e8cec7db0dc",
   "metadata": {},
   "outputs": [],
   "source": [
    "### Show input of autoencoder"
   ]
  },
  {
   "cell_type": "code",
   "execution_count": 10,
   "id": "2837cce4-6b60-4b99-a3c3-45d27273f6ad",
   "metadata": {},
   "outputs": [
    {
     "name": "stdout",
     "output_type": "stream",
     "text": [
      "torch.Size([140, 749])\n",
      "tensor([32, 32, 19, 42, 33, 32,  9, 40, 41,  7, 21,  3, 18, 26, 39,  2, 24, 22,\n",
      "        12, 35, 37, 36,  0, 38, 20,  0,  0,  0,  0,  0,  0,  0,  0,  0,  0,  0,\n",
      "         0,  0,  0,  0,  0,  0,  0,  0,  0,  0,  0,  0,  0,  0,  0,  0,  0,  0,\n",
      "         0,  0,  0,  0,  0,  0,  0,  0,  0,  0,  0,  0,  0,  0,  0,  0,  0,  0,\n",
      "         0,  0,  0,  0,  0,  0,  0,  0,  0,  0,  0,  0,  0,  0,  0,  0,  0,  0,\n",
      "         0,  0,  0,  0,  0,  0,  0,  0,  0,  0,  0,  0,  0,  0,  0,  0,  0,  0,\n",
      "         0,  0,  0,  0,  0,  0,  0,  0,  0,  0,  0,  0,  0,  0,  0,  0,  0,  0,\n",
      "         0,  0,  0,  0,  0,  0,  0,  0,  0,  0,  0,  0,  0,  0]) tensor([489, 526,   0,   0, 415, 266, 477,   0,   0,   0,   0,   0,   0,   0,\n",
      "          0,   0,   0,   0,   0,   0,   0,   0,   0,   0,   0,   0,   0,   0,\n",
      "          0,   0,   0,   0,   0,   0,   0,   0,   0,   0,   0,   0,   0,   0,\n",
      "          0,   0,   0,   0,   0,   0,   0,   0,   0,   0,   0,   0,   0,   0,\n",
      "          0,   0,   0,   0,   0,   0,   0,   0,   0,   0,   0,   0,   0,   0,\n",
      "          0,   0,   0,   0,   0,   0,   0,   0,   0,   0,   0,   0,   0,   0,\n",
      "          0,   0,   0,   0,   0,   0,   0,   0,   0,   0,   0,   0,   0,   0,\n",
      "          0,   0,   0,   0,   0,   0,   0,   0,   0,   0,   0,   0,   0,   0,\n",
      "          0,   0,   0,   0,   0,   0,   0,   0,   0,   0,   0,   0,   0,   0,\n",
      "          0,   0,   0,   0,   0,   0,   0,   0,   0,   0,   0,   0,   0,   0])\n",
      "[{'chordOuter': 'apc_propellers_4_75x4'}, {'chordOuter': 't_motor_AntigravityMN2806KV650'}, {'node_type': 'TurnigyGraphene1000mAh3S75C'}, {'load': 'TurnigyGraphene1000mAh3S75C'}, {'offset': 'apc_propellers_22x12E'}, {'chordOuter': 'TurnigyGraphene3000mAh4S75C'}, {'span': 'apc_propellers_8_75x9_25NN'}, {'gpsX': 'TurnigyGraphene1000mAh3S75C'}, {'angle': 'TurnigyGraphene1000mAh3S75C'}, {'servoType': 'TurnigyGraphene1000mAh3S75C'}, {'floorHeight': 'TurnigyGraphene1000mAh3S75C'}, {'autoPilotY': 'TurnigyGraphene1000mAh3S75C'}, {'motorType': 'TurnigyGraphene1000mAh3S75C'}, {'aileronBias': 'TurnigyGraphene1000mAh3S75C'}, {'length': 'TurnigyGraphene1000mAh3S75C'}, {'batteryType': 'TurnigyGraphene1000mAh3S75C'}, {'vertDiameter': 'TurnigyGraphene1000mAh3S75C'}, {'battery2X': 'TurnigyGraphene1000mAh3S75C'}, {'battery1Y': 'TurnigyGraphene1000mAh3S75C'}, {'horzDiameter': 'TurnigyGraphene1000mAh3S75C'}, {'voltageY': 'TurnigyGraphene1000mAh3S75C'}, {'battery2Y': 'TurnigyGraphene1000mAh3S75C'}, {'nacaProfile': 'TurnigyGraphene1000mAh3S75C'}, {'tubeOffset': 'TurnigyGraphene1000mAh3S75C'}, {'taperOffset': 'TurnigyGraphene1000mAh3S75C'}] 25\n"
     ]
    }
   ],
   "source": [
    "input = dataloader_val.dataset.x_train[0]\n",
    "print(input.size())\n",
    "input_seq = decode_embedding(input)\n",
    "print(input_seq, len(input_seq))\n"
   ]
  },
  {
   "cell_type": "code",
   "execution_count": null,
   "id": "4f6ec847-1313-458b-bb2c-1b9732807936",
   "metadata": {},
   "outputs": [],
   "source": []
  },
  {
   "cell_type": "markdown",
   "id": "323d6ad0-03ea-4431-97a4-e2887a8eb95e",
   "metadata": {},
   "source": [
    "### Load pre-trained trasformer autoencoder model"
   ]
  },
  {
   "cell_type": "code",
   "execution_count": 11,
   "id": "6b9fd09e-7993-457c-827b-745f778a3d2a",
   "metadata": {},
   "outputs": [
    {
     "name": "stdout",
     "output_type": "stream",
     "text": [
      "<bound method Module.state_dict of TransformerAutoencoder(\n",
      "  (transformer_encoder): TransformerModel(\n",
      "    (pos_encoder): PositionalEncoding(\n",
      "      (dropout): Dropout(p=0.2, inplace=False)\n",
      "    )\n",
      "    (transformer_encoder): TransformerEncoder(\n",
      "      (layers): ModuleList(\n",
      "        (0-7): 8 x TransformerEncoderLayer(\n",
      "          (self_attn): MultiheadAttention(\n",
      "            (out_proj): NonDynamicallyQuantizableLinear(in_features=20, out_features=20, bias=True)\n",
      "          )\n",
      "          (linear1): Linear(in_features=20, out_features=512, bias=True)\n",
      "          (dropout): Dropout(p=0.2, inplace=False)\n",
      "          (linear2): Linear(in_features=512, out_features=20, bias=True)\n",
      "          (norm1): LayerNorm((20,), eps=1e-05, elementwise_affine=True)\n",
      "          (norm2): LayerNorm((20,), eps=1e-05, elementwise_affine=True)\n",
      "          (dropout1): Dropout(p=0.2, inplace=False)\n",
      "          (dropout2): Dropout(p=0.2, inplace=False)\n",
      "        )\n",
      "      )\n",
      "    )\n",
      "    (encoder): Linear(in_features=749, out_features=20, bias=True)\n",
      "    (decoder): Linear(in_features=20, out_features=20, bias=True)\n",
      "  )\n",
      "  (transformer_decoder): TransformerDecoder(\n",
      "    (transformer_dec): TransformerDecoder(\n",
      "      (layers): ModuleList(\n",
      "        (0-7): 8 x TransformerDecoderLayer(\n",
      "          (self_attn): MultiheadAttention(\n",
      "            (out_proj): NonDynamicallyQuantizableLinear(in_features=20, out_features=20, bias=True)\n",
      "          )\n",
      "          (multihead_attn): MultiheadAttention(\n",
      "            (out_proj): NonDynamicallyQuantizableLinear(in_features=20, out_features=20, bias=True)\n",
      "          )\n",
      "          (linear1): Linear(in_features=20, out_features=512, bias=True)\n",
      "          (dropout): Dropout(p=0.2, inplace=False)\n",
      "          (linear2): Linear(in_features=512, out_features=20, bias=True)\n",
      "          (norm1): LayerNorm((20,), eps=1e-05, elementwise_affine=True)\n",
      "          (norm2): LayerNorm((20,), eps=1e-05, elementwise_affine=True)\n",
      "          (norm3): LayerNorm((20,), eps=1e-05, elementwise_affine=True)\n",
      "          (dropout1): Dropout(p=0.2, inplace=False)\n",
      "          (dropout2): Dropout(p=0.2, inplace=False)\n",
      "          (dropout3): Dropout(p=0.2, inplace=False)\n",
      "        )\n",
      "      )\n",
      "    )\n",
      "    (linear1): Linear(in_features=20, out_features=749, bias=True)\n",
      "  )\n",
      ")>\n"
     ]
    }
   ],
   "source": [
    "torch.manual_seed(0)\n",
    "np.random.seed(0)\n",
    "\n",
    "emsize = 20  # embedding dimension\n",
    "d_hid = 512  # dimension of the feedforward network model in nn.TransformerEncoder\n",
    "nlayers = 8  # number of nn.TransformerEncoderLayer in nn.TransformerEncoder\n",
    "nhead = 20  # number of heads in nn.MultiheadAttention\n",
    "dropout = 0.2  # dropout probability\n",
    "D_out = 20\n",
    "D = dataloader_tr.dataset.x_train.shape[-1]\n",
    "device = \"cpu\"\n",
    "\n",
    "model = TransformerAutoencoder( emsize, nhead, d_hid, nlayers, dropout, D, D_out).to(device)\n",
    "model=torch.load('../code/code/autoencoder_model_state.pth')\n",
    "print(model.state_dict)\n"
   ]
  },
  {
   "cell_type": "markdown",
   "id": "69929bec-08ef-4580-aa0d-2d949dc74c99",
   "metadata": {},
   "source": [
    "### Make prediction of autoencoder (validation data)"
   ]
  },
  {
   "cell_type": "code",
   "execution_count": 12,
   "id": "d8afaec8-efb2-47cb-8e84-e6d347363758",
   "metadata": {},
   "outputs": [
    {
     "name": "stdout",
     "output_type": "stream",
     "text": [
      "torch.Size([1, 140, 749])\n"
     ]
    }
   ],
   "source": [
    "batch, test_data= next(enumerate(dataloader_test))\n",
    "input, targets, mask = test_data\n",
    "input, targets, mask =input[2:3], targets[2:3], mask[2:3]  \n",
    "print(input.size())"
   ]
  },
  {
   "cell_type": "code",
   "execution_count": 13,
   "id": "191b8846-a00a-4129-9911-b8704c8fef06",
   "metadata": {},
   "outputs": [
    {
     "name": "stdout",
     "output_type": "stream",
     "text": [
      "torch.Size([140, 1, 20]) torch.Size([140, 1, 20])\n",
      "torch.Size([1, 140, 749]) torch.Size([1, 140, 749])\n"
     ]
    }
   ],
   "source": [
    "embedding, mem = model.transformer_encoder(input, mask)\n",
    "print(embedding.size(), mem.size())\n",
    "out  =model.transformer_decoder(embedding,mem,mask)\n",
    "out = out.permute(1, 0, 2)\n",
    "print(input.size(), out.size())"
   ]
  },
  {
   "cell_type": "markdown",
   "id": "33752f0c-83b6-4e38-9d02-6804cdbb217b",
   "metadata": {},
   "source": [
    "### Input sequence"
   ]
  },
  {
   "cell_type": "code",
   "execution_count": 14,
   "id": "052b57e2-6e28-43d3-87ea-23d8dfe1c20b",
   "metadata": {},
   "outputs": [
    {
     "name": "stdout",
     "output_type": "stream",
     "text": [
      "tensor([32, 32, 19, 42, 33, 17,  6, 32, 19, 42, 33, 17,  6, 32, 19, 42, 33, 32,\n",
      "         9, 40, 41,  7, 21, 25, 23, 15,  1, 26, 39,  2, 24, 22, 12, 35, 37, 36,\n",
      "         0, 38, 20,  0,  0,  0,  0,  0,  0,  0,  0,  0,  0,  0,  0,  0,  0,  0,\n",
      "         0,  0,  0,  0,  0,  0,  0,  0,  0,  0,  0,  0,  0,  0,  0,  0,  0,  0,\n",
      "         0,  0,  0,  0,  0,  0,  0,  0,  0,  0,  0,  0,  0,  0,  0,  0,  0,  0,\n",
      "         0,  0,  0,  0,  0,  0,  0,  0,  0,  0,  0,  0,  0,  0,  0,  0,  0,  0,\n",
      "         0,  0,  0,  0,  0,  0,  0,  0,  0,  0,  0,  0,  0,  0,  0,  0,  0,  0,\n",
      "         0,  0,  0,  0,  0,  0,  0,  0,  0,  0,  0,  0,  0,  0]) tensor([125, 239,   0, 159, 246,   0,   0, 239,   0,   0, 535,   0,   0, 526,\n",
      "          0, 524, 415,  85, 371,   0,   0,   0,   0,   0,   0,   0,   0,   0,\n",
      "          0,   0,   0,   0,   0,   0,   0,   0,   0,   0,   0,   0,   0,   0,\n",
      "          0,   0,   0,   0,   0,   0,   0,   0,   0,   0,   0,   0,   0,   0,\n",
      "          0,   0,   0,   0,   0,   0,   0,   0,   0,   0,   0,   0,   0,   0,\n",
      "          0,   0,   0,   0,   0,   0,   0,   0,   0,   0,   0,   0,   0,   0,\n",
      "          0,   0,   0,   0,   0,   0,   0,   0,   0,   0,   0,   0,   0,   0,\n",
      "          0,   0,   0,   0,   0,   0,   0,   0,   0,   0,   0,   0,   0,   0,\n",
      "          0,   0,   0,   0,   0,   0,   0,   0,   0,   0,   0,   0,   0,   0,\n",
      "          0,   0,   0,   0,   0,   0,   0,   0,   0,   0,   0,   0,   0,   0])\n",
      "[{'chordOuter': 'apc_propellers_6_3x4'}, {'chordOuter': 'apc_propellers_12x3_8SF'}, {'node_type': 'TurnigyGraphene1000mAh3S75C'}, {'load': 'apc_propellers_9_625x3_75N'}, {'offset': 'CrossSegment'}, {'batteryY': 'TurnigyGraphene1000mAh3S75C'}, {'rpmX': 'TurnigyGraphene1000mAh3S75C'}, {'chordOuter': 'apc_propellers_12x3_8SF'}, {'node_type': 'TurnigyGraphene1000mAh3S75C'}, {'load': 'TurnigyGraphene1000mAh3S75C'}, {'offset': 't_motor_MN3110KV700'}, {'batteryY': 'TurnigyGraphene1000mAh3S75C'}, {'rpmX': 'TurnigyGraphene1000mAh3S75C'}, {'chordOuter': 't_motor_AntigravityMN2806KV650'}, {'node_type': 'TurnigyGraphene1000mAh3S75C'}, {'load': 'apc_propellers_11_5x6'}, {'offset': 'apc_propellers_22x12E'}, {'chordOuter': 't_motor_AT2317KV880'}, {'span': 't_motor_AS2312KV1400'}, {'gpsX': 'TurnigyGraphene1000mAh3S75C'}, {'angle': 'TurnigyGraphene1000mAh3S75C'}, {'servoType': 'TurnigyGraphene1000mAh3S75C'}, {'floorHeight': 'TurnigyGraphene1000mAh3S75C'}, {'batteryX': 'TurnigyGraphene1000mAh3S75C'}, {'voltageX': 'TurnigyGraphene1000mAh3S75C'}, {'rpmY': 'TurnigyGraphene1000mAh3S75C'}, {'autoPilotX': 'TurnigyGraphene1000mAh3S75C'}, {'aileronBias': 'TurnigyGraphene1000mAh3S75C'}, {'length': 'TurnigyGraphene1000mAh3S75C'}, {'batteryType': 'TurnigyGraphene1000mAh3S75C'}, {'vertDiameter': 'TurnigyGraphene1000mAh3S75C'}, {'battery2X': 'TurnigyGraphene1000mAh3S75C'}, {'battery1Y': 'TurnigyGraphene1000mAh3S75C'}, {'horzDiameter': 'TurnigyGraphene1000mAh3S75C'}, {'voltageY': 'TurnigyGraphene1000mAh3S75C'}, {'battery2Y': 'TurnigyGraphene1000mAh3S75C'}, {'nacaProfile': 'TurnigyGraphene1000mAh3S75C'}, {'tubeOffset': 'TurnigyGraphene1000mAh3S75C'}, {'taperOffset': 'TurnigyGraphene1000mAh3S75C'}]\n",
      "39\n"
     ]
    }
   ],
   "source": [
    "input_seq = decode_embedding(input[0])\n",
    "print(input_seq)\n",
    "print(len(input_seq))"
   ]
  },
  {
   "cell_type": "markdown",
   "id": "5461bf4b-6a53-4f2f-ac64-aed5d871df0b",
   "metadata": {},
   "source": [
    "### Output Sequence"
   ]
  },
  {
   "cell_type": "code",
   "execution_count": 15,
   "id": "b3d060d9-a2b0-4ad7-b806-fff6c3264d65",
   "metadata": {},
   "outputs": [
    {
     "name": "stdout",
     "output_type": "stream",
     "text": [
      "tensor([32, 32, 19, 42, 42, 17, 19, 32, 19, 42, 42, 19,  6, 32, 19, 32, 42, 32,\n",
      "        42,  6,  6,  6,  6, 19,  6,  6,  6, 35,  6, 35,  6, 35,  6, 35,  6, 35,\n",
      "         6, 35,  6, 32, 32, 32, 32, 32, 32, 32, 32, 32, 32, 32, 32, 32, 32, 32,\n",
      "        32, 32, 32, 32, 32, 32, 32, 32, 32, 32, 32, 32, 32, 32, 32, 32, 32, 32,\n",
      "        32, 32, 32, 32, 32, 32, 32, 32, 32, 32, 32, 32, 32, 32, 32, 32, 32, 32,\n",
      "        32, 32, 32, 32, 32, 32, 32, 32, 32, 32, 32, 32, 32, 32, 32, 32, 32, 32,\n",
      "        32, 32, 32, 32, 32, 32, 32, 32, 32, 32, 32, 32, 32, 32, 32, 32, 32, 32,\n",
      "        32, 32, 32, 32, 32, 32, 32, 32, 32, 32, 32, 32, 32, 32]) tensor([239, 239, 220, 193, 193, 239, 526, 239, 220, 193, 193, 526, 239, 239,\n",
      "        220, 239, 193, 239, 239, 239, 239, 526, 239, 526, 239, 239, 526, 559,\n",
      "        559, 526, 526, 526, 559, 526, 526, 559, 239, 526, 526, 239, 239, 239,\n",
      "        239, 239, 239, 239, 239, 239, 239, 239, 239, 239, 239, 239, 239, 239,\n",
      "        239, 239, 239, 239, 239, 239, 239, 239, 239, 239, 239, 239, 239, 239,\n",
      "        239, 239, 239, 239, 239, 239, 239, 239, 239, 239, 239, 239, 239, 239,\n",
      "        239, 239, 239, 239, 239, 239, 239, 239, 239, 239, 239, 239, 239, 239,\n",
      "        239, 239, 239, 239, 239, 239, 239, 239, 239, 239, 239, 239, 239, 239,\n",
      "        239, 239, 239, 239, 239, 239, 239, 239, 239, 239, 239, 239, 239, 239,\n",
      "        239, 239, 239, 239, 239, 239, 239, 239, 239, 239, 239, 239, 239, 239])\n",
      "[{'chordOuter': 'apc_propellers_12x3_8SF'}, {'chordOuter': 'apc_propellers_12x3_8SF'}, {'node_type': 't_motor_AT2308KV1450'}, {'load': 'apc_propellers_10x10E'}, {'load': 'apc_propellers_10x10E'}, {'batteryY': 'apc_propellers_12x3_8SF'}, {'node_type': 't_motor_AntigravityMN2806KV650'}, {'chordOuter': 'apc_propellers_12x3_8SF'}, {'node_type': 't_motor_AT2308KV1450'}, {'load': 'apc_propellers_10x10E'}, {'load': 'apc_propellers_10x10E'}, {'node_type': 't_motor_AntigravityMN2806KV650'}, {'rpmX': 'apc_propellers_12x3_8SF'}, {'chordOuter': 'apc_propellers_12x3_8SF'}, {'node_type': 't_motor_AT2308KV1450'}, {'chordOuter': 'apc_propellers_12x3_8SF'}, {'load': 'apc_propellers_10x10E'}, {'chordOuter': 'apc_propellers_12x3_8SF'}, {'load': 'apc_propellers_12x3_8SF'}, {'rpmX': 'apc_propellers_12x3_8SF'}, {'rpmX': 'apc_propellers_12x3_8SF'}, {'rpmX': 't_motor_AntigravityMN2806KV650'}, {'rpmX': 'apc_propellers_12x3_8SF'}, {'node_type': 't_motor_AntigravityMN2806KV650'}, {'rpmX': 'apc_propellers_12x3_8SF'}, {'rpmX': 'apc_propellers_12x3_8SF'}, {'rpmX': 't_motor_AntigravityMN2806KV650'}, {'horzDiameter': 'apc_propellers_8x4_1SF'}, {'rpmX': 'apc_propellers_8x4_1SF'}, {'horzDiameter': 't_motor_AntigravityMN2806KV650'}, {'rpmX': 't_motor_AntigravityMN2806KV650'}, {'horzDiameter': 't_motor_AntigravityMN2806KV650'}, {'rpmX': 'apc_propellers_8x4_1SF'}, {'horzDiameter': 't_motor_AntigravityMN2806KV650'}, {'rpmX': 't_motor_AntigravityMN2806KV650'}, {'horzDiameter': 'apc_propellers_8x4_1SF'}, {'rpmX': 'apc_propellers_12x3_8SF'}, {'horzDiameter': 't_motor_AntigravityMN2806KV650'}, {'rpmX': 't_motor_AntigravityMN2806KV650'}, {'chordOuter': 'apc_propellers_12x3_8SF'}, {'chordOuter': 'apc_propellers_12x3_8SF'}, {'chordOuter': 'apc_propellers_12x3_8SF'}, {'chordOuter': 'apc_propellers_12x3_8SF'}, {'chordOuter': 'apc_propellers_12x3_8SF'}, {'chordOuter': 'apc_propellers_12x3_8SF'}, {'chordOuter': 'apc_propellers_12x3_8SF'}, {'chordOuter': 'apc_propellers_12x3_8SF'}, {'chordOuter': 'apc_propellers_12x3_8SF'}, {'chordOuter': 'apc_propellers_12x3_8SF'}, {'chordOuter': 'apc_propellers_12x3_8SF'}, {'chordOuter': 'apc_propellers_12x3_8SF'}, {'chordOuter': 'apc_propellers_12x3_8SF'}, {'chordOuter': 'apc_propellers_12x3_8SF'}, {'chordOuter': 'apc_propellers_12x3_8SF'}, {'chordOuter': 'apc_propellers_12x3_8SF'}, {'chordOuter': 'apc_propellers_12x3_8SF'}, {'chordOuter': 'apc_propellers_12x3_8SF'}, {'chordOuter': 'apc_propellers_12x3_8SF'}, {'chordOuter': 'apc_propellers_12x3_8SF'}, {'chordOuter': 'apc_propellers_12x3_8SF'}, {'chordOuter': 'apc_propellers_12x3_8SF'}, {'chordOuter': 'apc_propellers_12x3_8SF'}, {'chordOuter': 'apc_propellers_12x3_8SF'}, {'chordOuter': 'apc_propellers_12x3_8SF'}, {'chordOuter': 'apc_propellers_12x3_8SF'}, {'chordOuter': 'apc_propellers_12x3_8SF'}, {'chordOuter': 'apc_propellers_12x3_8SF'}, {'chordOuter': 'apc_propellers_12x3_8SF'}, {'chordOuter': 'apc_propellers_12x3_8SF'}, {'chordOuter': 'apc_propellers_12x3_8SF'}, {'chordOuter': 'apc_propellers_12x3_8SF'}, {'chordOuter': 'apc_propellers_12x3_8SF'}, {'chordOuter': 'apc_propellers_12x3_8SF'}, {'chordOuter': 'apc_propellers_12x3_8SF'}, {'chordOuter': 'apc_propellers_12x3_8SF'}, {'chordOuter': 'apc_propellers_12x3_8SF'}, {'chordOuter': 'apc_propellers_12x3_8SF'}, {'chordOuter': 'apc_propellers_12x3_8SF'}, {'chordOuter': 'apc_propellers_12x3_8SF'}, {'chordOuter': 'apc_propellers_12x3_8SF'}, {'chordOuter': 'apc_propellers_12x3_8SF'}, {'chordOuter': 'apc_propellers_12x3_8SF'}, {'chordOuter': 'apc_propellers_12x3_8SF'}, {'chordOuter': 'apc_propellers_12x3_8SF'}, {'chordOuter': 'apc_propellers_12x3_8SF'}, {'chordOuter': 'apc_propellers_12x3_8SF'}, {'chordOuter': 'apc_propellers_12x3_8SF'}, {'chordOuter': 'apc_propellers_12x3_8SF'}, {'chordOuter': 'apc_propellers_12x3_8SF'}, {'chordOuter': 'apc_propellers_12x3_8SF'}, {'chordOuter': 'apc_propellers_12x3_8SF'}, {'chordOuter': 'apc_propellers_12x3_8SF'}, {'chordOuter': 'apc_propellers_12x3_8SF'}, {'chordOuter': 'apc_propellers_12x3_8SF'}, {'chordOuter': 'apc_propellers_12x3_8SF'}, {'chordOuter': 'apc_propellers_12x3_8SF'}, {'chordOuter': 'apc_propellers_12x3_8SF'}, {'chordOuter': 'apc_propellers_12x3_8SF'}, {'chordOuter': 'apc_propellers_12x3_8SF'}, {'chordOuter': 'apc_propellers_12x3_8SF'}, {'chordOuter': 'apc_propellers_12x3_8SF'}, {'chordOuter': 'apc_propellers_12x3_8SF'}, {'chordOuter': 'apc_propellers_12x3_8SF'}, {'chordOuter': 'apc_propellers_12x3_8SF'}, {'chordOuter': 'apc_propellers_12x3_8SF'}, {'chordOuter': 'apc_propellers_12x3_8SF'}, {'chordOuter': 'apc_propellers_12x3_8SF'}, {'chordOuter': 'apc_propellers_12x3_8SF'}, {'chordOuter': 'apc_propellers_12x3_8SF'}, {'chordOuter': 'apc_propellers_12x3_8SF'}, {'chordOuter': 'apc_propellers_12x3_8SF'}, {'chordOuter': 'apc_propellers_12x3_8SF'}, {'chordOuter': 'apc_propellers_12x3_8SF'}, {'chordOuter': 'apc_propellers_12x3_8SF'}, {'chordOuter': 'apc_propellers_12x3_8SF'}, {'chordOuter': 'apc_propellers_12x3_8SF'}, {'chordOuter': 'apc_propellers_12x3_8SF'}, {'chordOuter': 'apc_propellers_12x3_8SF'}, {'chordOuter': 'apc_propellers_12x3_8SF'}, {'chordOuter': 'apc_propellers_12x3_8SF'}, {'chordOuter': 'apc_propellers_12x3_8SF'}, {'chordOuter': 'apc_propellers_12x3_8SF'}, {'chordOuter': 'apc_propellers_12x3_8SF'}, {'chordOuter': 'apc_propellers_12x3_8SF'}, {'chordOuter': 'apc_propellers_12x3_8SF'}, {'chordOuter': 'apc_propellers_12x3_8SF'}, {'chordOuter': 'apc_propellers_12x3_8SF'}, {'chordOuter': 'apc_propellers_12x3_8SF'}, {'chordOuter': 'apc_propellers_12x3_8SF'}, {'chordOuter': 'apc_propellers_12x3_8SF'}, {'chordOuter': 'apc_propellers_12x3_8SF'}, {'chordOuter': 'apc_propellers_12x3_8SF'}, {'chordOuter': 'apc_propellers_12x3_8SF'}, {'chordOuter': 'apc_propellers_12x3_8SF'}, {'chordOuter': 'apc_propellers_12x3_8SF'}, {'chordOuter': 'apc_propellers_12x3_8SF'}, {'chordOuter': 'apc_propellers_12x3_8SF'}, {'chordOuter': 'apc_propellers_12x3_8SF'}, {'chordOuter': 'apc_propellers_12x3_8SF'}, {'chordOuter': 'apc_propellers_12x3_8SF'}]\n",
      "140\n"
     ]
    }
   ],
   "source": [
    "out_seq = decode_embedding(out[0])\n",
    "print(out_seq)\n",
    "print(len(out_seq))"
   ]
  },
  {
   "cell_type": "markdown",
   "id": "55a9387e-4248-44d5-934f-e4c1fc3bbb40",
   "metadata": {},
   "source": [
    "### Make Prediction of training data"
   ]
  },
  {
   "cell_type": "code",
   "execution_count": 16,
   "id": "e6bf52b3-5448-4bfc-83b8-211554e3b6a1",
   "metadata": {},
   "outputs": [
    {
     "name": "stdout",
     "output_type": "stream",
     "text": [
      "torch.Size([1, 140, 749])\n"
     ]
    }
   ],
   "source": [
    "batch, test_data= next(enumerate(dataloader_tr))\n",
    "input, targets, mask = test_data\n",
    "input, targets, mask =input[10:11], targets[10:11], mask[10:11]  \n",
    "print(input.size())"
   ]
  },
  {
   "cell_type": "code",
   "execution_count": 17,
   "id": "04e9feb2-4fc9-4f10-9b26-7aea1ea468c2",
   "metadata": {},
   "outputs": [
    {
     "name": "stdout",
     "output_type": "stream",
     "text": [
      "torch.Size([140, 1, 20]) torch.Size([140, 1, 20])\n",
      "torch.Size([1, 140, 749]) torch.Size([1, 140, 749])\n"
     ]
    }
   ],
   "source": [
    "embedding, mem = model.transformer_encoder(input, mask)\n",
    "print(embedding.size(), mem.size())\n",
    "out  =model.transformer_decoder(embedding,mem,mask)\n",
    "out = out.permute(1, 0, 2)\n",
    "print(input.size(), out.size())"
   ]
  },
  {
   "cell_type": "markdown",
   "id": "11752d68-df4c-457d-87b6-528ef81a8576",
   "metadata": {},
   "source": [
    "### Input sequence"
   ]
  },
  {
   "cell_type": "code",
   "execution_count": 18,
   "id": "5fa30ec9-a671-42fd-af3b-04473968ca2e",
   "metadata": {},
   "outputs": [
    {
     "name": "stdout",
     "output_type": "stream",
     "text": [
      "tensor([32, 32,  6, 19, 32, 19, 42, 33, 17,  6, 32,  9, 40, 41,  7, 21, 25, 23,\n",
      "        15,  1, 26, 39,  2, 24, 22, 12, 35, 37, 36,  0, 38, 20,  0,  0,  0,  0,\n",
      "         0,  0,  0,  0,  0,  0,  0,  0,  0,  0,  0,  0,  0,  0,  0,  0,  0,  0,\n",
      "         0,  0,  0,  0,  0,  0,  0,  0,  0,  0,  0,  0,  0,  0,  0,  0,  0,  0,\n",
      "         0,  0,  0,  0,  0,  0,  0,  0,  0,  0,  0,  0,  0,  0,  0,  0,  0,  0,\n",
      "         0,  0,  0,  0,  0,  0,  0,  0,  0,  0,  0,  0,  0,  0,  0,  0,  0,  0,\n",
      "         0,  0,  0,  0,  0,  0,  0,  0,  0,  0,  0,  0,  0,  0,  0,  0,  0,  0,\n",
      "         0,  0,  0,  0,  0,  0,  0,  0,  0,  0,  0,  0,  0,  0]) tensor([ 27, 482,   0,   0, 239,   0,  25, 559,   0,   0,  85,  63,   0,   0,\n",
      "          0,   0,   0,   0,   0,   0,   0,   0,   0,   0,   0,   0,   0,   0,\n",
      "          0,   0,   0,   0,   0,   0,   0,   0,   0,   0,   0,   0,   0,   0,\n",
      "          0,   0,   0,   0,   0,   0,   0,   0,   0,   0,   0,   0,   0,   0,\n",
      "          0,   0,   0,   0,   0,   0,   0,   0,   0,   0,   0,   0,   0,   0,\n",
      "          0,   0,   0,   0,   0,   0,   0,   0,   0,   0,   0,   0,   0,   0,\n",
      "          0,   0,   0,   0,   0,   0,   0,   0,   0,   0,   0,   0,   0,   0,\n",
      "          0,   0,   0,   0,   0,   0,   0,   0,   0,   0,   0,   0,   0,   0,\n",
      "          0,   0,   0,   0,   0,   0,   0,   0,   0,   0,   0,   0,   0,   0,\n",
      "          0,   0,   0,   0,   0,   0,   0,   0,   0,   0,   0,   0,   0,   0])\n",
      "[{'chordOuter': 't_motor_MT2216V2800KV'}, {'chordOuter': 'apc_propellers_19x12E'}, {'rpmX': 'TurnigyGraphene1000mAh3S75C'}, {'node_type': 'TurnigyGraphene1000mAh3S75C'}, {'chordOuter': 'apc_propellers_12x3_8SF'}, {'node_type': 'TurnigyGraphene1000mAh3S75C'}, {'load': 'apc_propellers_12x10W'}, {'offset': 'apc_propellers_8x4_1SF'}, {'batteryY': 'TurnigyGraphene1000mAh3S75C'}, {'rpmX': 'TurnigyGraphene1000mAh3S75C'}, {'chordOuter': 't_motor_AT2317KV880'}, {'span': 't_motor_U8IIKV190'}, {'gpsX': 'TurnigyGraphene1000mAh3S75C'}, {'angle': 'TurnigyGraphene1000mAh3S75C'}, {'servoType': 'TurnigyGraphene1000mAh3S75C'}, {'floorHeight': 'TurnigyGraphene1000mAh3S75C'}, {'batteryX': 'TurnigyGraphene1000mAh3S75C'}, {'voltageX': 'TurnigyGraphene1000mAh3S75C'}, {'rpmY': 'TurnigyGraphene1000mAh3S75C'}, {'autoPilotX': 'TurnigyGraphene1000mAh3S75C'}, {'aileronBias': 'TurnigyGraphene1000mAh3S75C'}, {'length': 'TurnigyGraphene1000mAh3S75C'}, {'batteryType': 'TurnigyGraphene1000mAh3S75C'}, {'vertDiameter': 'TurnigyGraphene1000mAh3S75C'}, {'battery2X': 'TurnigyGraphene1000mAh3S75C'}, {'battery1Y': 'TurnigyGraphene1000mAh3S75C'}, {'horzDiameter': 'TurnigyGraphene1000mAh3S75C'}, {'voltageY': 'TurnigyGraphene1000mAh3S75C'}, {'battery2Y': 'TurnigyGraphene1000mAh3S75C'}, {'nacaProfile': 'TurnigyGraphene1000mAh3S75C'}, {'tubeOffset': 'TurnigyGraphene1000mAh3S75C'}, {'taperOffset': 'TurnigyGraphene1000mAh3S75C'}]\n"
     ]
    }
   ],
   "source": [
    "input_seq = decode_embedding(input[0])\n",
    "print(input_seq)"
   ]
  },
  {
   "cell_type": "markdown",
   "id": "60328687-16a2-4d59-8f4c-73b6ea512aff",
   "metadata": {},
   "source": [
    "### Output Sequence"
   ]
  },
  {
   "cell_type": "code",
   "execution_count": 19,
   "id": "18711eba-d2ef-4ef4-b969-95ac027eaf75",
   "metadata": {},
   "outputs": [
    {
     "name": "stdout",
     "output_type": "stream",
     "text": [
      "tensor([32, 32,  6, 19, 32, 19, 42, 42, 17,  6, 32, 42,  6,  6,  6,  6,  6,  6,\n",
      "         6,  6, 35,  6,  2,  6,  2,  6,  2,  6, 35,  6, 35,  6, 32, 32, 32, 32,\n",
      "        32, 32, 32, 32, 32, 32, 32, 32, 32, 32, 32, 32, 32, 32, 32, 32, 32, 32,\n",
      "        32, 32, 32, 32, 32, 32, 32, 32, 32, 32, 32, 32, 32, 32, 32, 32, 32, 32,\n",
      "        32, 32, 32, 32, 32, 32, 32, 32, 32, 32, 32, 32, 32, 32, 32, 32, 32, 32,\n",
      "        32, 32, 32, 32, 32, 32, 32, 32, 32, 32, 32, 32, 32, 32, 32, 32, 32, 32,\n",
      "        32, 32, 32, 32, 32, 32, 32, 32, 32, 32, 32, 32, 32, 32, 32, 32, 32, 32,\n",
      "        32, 32, 32, 32, 32, 32, 32, 32, 32, 32, 32, 32, 32, 32]) tensor([239, 239, 239, 220, 239, 220, 193, 193, 239, 559, 239, 239, 239, 239,\n",
      "        239, 239, 559, 526, 239, 239, 559, 526, 559, 239, 559, 526, 559, 239,\n",
      "        559, 526, 559, 559, 239, 239, 239, 239, 239, 239, 239, 239, 239, 239,\n",
      "        239, 239, 239, 239, 239, 239, 239, 239, 239, 239, 239, 239, 239, 239,\n",
      "        239, 239, 239, 239, 239, 239, 239, 239, 239, 239, 239, 239, 239, 239,\n",
      "        239, 239, 239, 239, 239, 239, 239, 239, 239, 239, 239, 239, 239, 239,\n",
      "        239, 239, 239, 239, 239, 239, 239, 239, 239, 239, 239, 239, 239, 239,\n",
      "        239, 239, 239, 239, 239, 239, 239, 239, 239, 239, 239, 239, 239, 239,\n",
      "        239, 239, 239, 239, 239, 239, 239, 239, 239, 239, 239, 239, 239, 239,\n",
      "        239, 239, 239, 239, 239, 239, 239, 239, 239, 239, 239, 239, 239, 239])\n",
      "[{'chordOuter': 'apc_propellers_12x3_8SF'}, {'chordOuter': 'apc_propellers_12x3_8SF'}, {'rpmX': 'apc_propellers_12x3_8SF'}, {'node_type': 't_motor_AT2308KV1450'}, {'chordOuter': 'apc_propellers_12x3_8SF'}, {'node_type': 't_motor_AT2308KV1450'}, {'load': 'apc_propellers_10x10E'}, {'load': 'apc_propellers_10x10E'}, {'batteryY': 'apc_propellers_12x3_8SF'}, {'rpmX': 'apc_propellers_8x4_1SF'}, {'chordOuter': 'apc_propellers_12x3_8SF'}, {'load': 'apc_propellers_12x3_8SF'}, {'rpmX': 'apc_propellers_12x3_8SF'}, {'rpmX': 'apc_propellers_12x3_8SF'}, {'rpmX': 'apc_propellers_12x3_8SF'}, {'rpmX': 'apc_propellers_12x3_8SF'}, {'rpmX': 'apc_propellers_8x4_1SF'}, {'rpmX': 't_motor_AntigravityMN2806KV650'}, {'rpmX': 'apc_propellers_12x3_8SF'}, {'rpmX': 'apc_propellers_12x3_8SF'}, {'horzDiameter': 'apc_propellers_8x4_1SF'}, {'rpmX': 't_motor_AntigravityMN2806KV650'}, {'batteryType': 'apc_propellers_8x4_1SF'}, {'rpmX': 'apc_propellers_12x3_8SF'}, {'batteryType': 'apc_propellers_8x4_1SF'}, {'rpmX': 't_motor_AntigravityMN2806KV650'}, {'batteryType': 'apc_propellers_8x4_1SF'}, {'rpmX': 'apc_propellers_12x3_8SF'}, {'horzDiameter': 'apc_propellers_8x4_1SF'}, {'rpmX': 't_motor_AntigravityMN2806KV650'}, {'horzDiameter': 'apc_propellers_8x4_1SF'}, {'rpmX': 'apc_propellers_8x4_1SF'}, {'chordOuter': 'apc_propellers_12x3_8SF'}, {'chordOuter': 'apc_propellers_12x3_8SF'}, {'chordOuter': 'apc_propellers_12x3_8SF'}, {'chordOuter': 'apc_propellers_12x3_8SF'}, {'chordOuter': 'apc_propellers_12x3_8SF'}, {'chordOuter': 'apc_propellers_12x3_8SF'}, {'chordOuter': 'apc_propellers_12x3_8SF'}, {'chordOuter': 'apc_propellers_12x3_8SF'}, {'chordOuter': 'apc_propellers_12x3_8SF'}, {'chordOuter': 'apc_propellers_12x3_8SF'}, {'chordOuter': 'apc_propellers_12x3_8SF'}, {'chordOuter': 'apc_propellers_12x3_8SF'}, {'chordOuter': 'apc_propellers_12x3_8SF'}, {'chordOuter': 'apc_propellers_12x3_8SF'}, {'chordOuter': 'apc_propellers_12x3_8SF'}, {'chordOuter': 'apc_propellers_12x3_8SF'}, {'chordOuter': 'apc_propellers_12x3_8SF'}, {'chordOuter': 'apc_propellers_12x3_8SF'}, {'chordOuter': 'apc_propellers_12x3_8SF'}, {'chordOuter': 'apc_propellers_12x3_8SF'}, {'chordOuter': 'apc_propellers_12x3_8SF'}, {'chordOuter': 'apc_propellers_12x3_8SF'}, {'chordOuter': 'apc_propellers_12x3_8SF'}, {'chordOuter': 'apc_propellers_12x3_8SF'}, {'chordOuter': 'apc_propellers_12x3_8SF'}, {'chordOuter': 'apc_propellers_12x3_8SF'}, {'chordOuter': 'apc_propellers_12x3_8SF'}, {'chordOuter': 'apc_propellers_12x3_8SF'}, {'chordOuter': 'apc_propellers_12x3_8SF'}, {'chordOuter': 'apc_propellers_12x3_8SF'}, {'chordOuter': 'apc_propellers_12x3_8SF'}, {'chordOuter': 'apc_propellers_12x3_8SF'}, {'chordOuter': 'apc_propellers_12x3_8SF'}, {'chordOuter': 'apc_propellers_12x3_8SF'}, {'chordOuter': 'apc_propellers_12x3_8SF'}, {'chordOuter': 'apc_propellers_12x3_8SF'}, {'chordOuter': 'apc_propellers_12x3_8SF'}, {'chordOuter': 'apc_propellers_12x3_8SF'}, {'chordOuter': 'apc_propellers_12x3_8SF'}, {'chordOuter': 'apc_propellers_12x3_8SF'}, {'chordOuter': 'apc_propellers_12x3_8SF'}, {'chordOuter': 'apc_propellers_12x3_8SF'}, {'chordOuter': 'apc_propellers_12x3_8SF'}, {'chordOuter': 'apc_propellers_12x3_8SF'}, {'chordOuter': 'apc_propellers_12x3_8SF'}, {'chordOuter': 'apc_propellers_12x3_8SF'}, {'chordOuter': 'apc_propellers_12x3_8SF'}, {'chordOuter': 'apc_propellers_12x3_8SF'}, {'chordOuter': 'apc_propellers_12x3_8SF'}, {'chordOuter': 'apc_propellers_12x3_8SF'}, {'chordOuter': 'apc_propellers_12x3_8SF'}, {'chordOuter': 'apc_propellers_12x3_8SF'}, {'chordOuter': 'apc_propellers_12x3_8SF'}, {'chordOuter': 'apc_propellers_12x3_8SF'}, {'chordOuter': 'apc_propellers_12x3_8SF'}, {'chordOuter': 'apc_propellers_12x3_8SF'}, {'chordOuter': 'apc_propellers_12x3_8SF'}, {'chordOuter': 'apc_propellers_12x3_8SF'}, {'chordOuter': 'apc_propellers_12x3_8SF'}, {'chordOuter': 'apc_propellers_12x3_8SF'}, {'chordOuter': 'apc_propellers_12x3_8SF'}, {'chordOuter': 'apc_propellers_12x3_8SF'}, {'chordOuter': 'apc_propellers_12x3_8SF'}, {'chordOuter': 'apc_propellers_12x3_8SF'}, {'chordOuter': 'apc_propellers_12x3_8SF'}, {'chordOuter': 'apc_propellers_12x3_8SF'}, {'chordOuter': 'apc_propellers_12x3_8SF'}, {'chordOuter': 'apc_propellers_12x3_8SF'}, {'chordOuter': 'apc_propellers_12x3_8SF'}, {'chordOuter': 'apc_propellers_12x3_8SF'}, {'chordOuter': 'apc_propellers_12x3_8SF'}, {'chordOuter': 'apc_propellers_12x3_8SF'}, {'chordOuter': 'apc_propellers_12x3_8SF'}, {'chordOuter': 'apc_propellers_12x3_8SF'}, {'chordOuter': 'apc_propellers_12x3_8SF'}, {'chordOuter': 'apc_propellers_12x3_8SF'}, {'chordOuter': 'apc_propellers_12x3_8SF'}, {'chordOuter': 'apc_propellers_12x3_8SF'}, {'chordOuter': 'apc_propellers_12x3_8SF'}, {'chordOuter': 'apc_propellers_12x3_8SF'}, {'chordOuter': 'apc_propellers_12x3_8SF'}, {'chordOuter': 'apc_propellers_12x3_8SF'}, {'chordOuter': 'apc_propellers_12x3_8SF'}, {'chordOuter': 'apc_propellers_12x3_8SF'}, {'chordOuter': 'apc_propellers_12x3_8SF'}, {'chordOuter': 'apc_propellers_12x3_8SF'}, {'chordOuter': 'apc_propellers_12x3_8SF'}, {'chordOuter': 'apc_propellers_12x3_8SF'}, {'chordOuter': 'apc_propellers_12x3_8SF'}, {'chordOuter': 'apc_propellers_12x3_8SF'}, {'chordOuter': 'apc_propellers_12x3_8SF'}, {'chordOuter': 'apc_propellers_12x3_8SF'}, {'chordOuter': 'apc_propellers_12x3_8SF'}, {'chordOuter': 'apc_propellers_12x3_8SF'}, {'chordOuter': 'apc_propellers_12x3_8SF'}, {'chordOuter': 'apc_propellers_12x3_8SF'}, {'chordOuter': 'apc_propellers_12x3_8SF'}, {'chordOuter': 'apc_propellers_12x3_8SF'}, {'chordOuter': 'apc_propellers_12x3_8SF'}, {'chordOuter': 'apc_propellers_12x3_8SF'}, {'chordOuter': 'apc_propellers_12x3_8SF'}, {'chordOuter': 'apc_propellers_12x3_8SF'}, {'chordOuter': 'apc_propellers_12x3_8SF'}, {'chordOuter': 'apc_propellers_12x3_8SF'}, {'chordOuter': 'apc_propellers_12x3_8SF'}, {'chordOuter': 'apc_propellers_12x3_8SF'}, {'chordOuter': 'apc_propellers_12x3_8SF'}, {'chordOuter': 'apc_propellers_12x3_8SF'}]\n"
     ]
    }
   ],
   "source": [
    "out_seq = decode_embedding(out[0])\n",
    "print(out_seq)"
   ]
  },
  {
   "cell_type": "code",
   "execution_count": null,
   "id": "faebe91b-69b4-4144-9748-e90aaff1c625",
   "metadata": {},
   "outputs": [],
   "source": []
  }
 ],
 "metadata": {
  "kernelspec": {
   "display_name": "Python 3 (ipykernel)",
   "language": "python",
   "name": "python3"
  },
  "language_info": {
   "codemirror_mode": {
    "name": "ipython",
    "version": 3
   },
   "file_extension": ".py",
   "mimetype": "text/x-python",
   "name": "python",
   "nbconvert_exporter": "python",
   "pygments_lexer": "ipython3",
   "version": "3.10.12"
  }
 },
 "nbformat": 4,
 "nbformat_minor": 5
}
